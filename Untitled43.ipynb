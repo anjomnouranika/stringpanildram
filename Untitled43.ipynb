{
  "nbformat": 4,
  "nbformat_minor": 0,
  "metadata": {
    "colab": {
      "name": "Untitled43.ipynb",
      "provenance": [],
      "authorship_tag": "ABX9TyOGDMzVsFyCztdD1cDW11cp",
      "include_colab_link": true
    },
    "kernelspec": {
      "name": "python3",
      "display_name": "Python 3"
    }
  },
  "cells": [
    {
      "cell_type": "markdown",
      "metadata": {
        "id": "view-in-github",
        "colab_type": "text"
      },
      "source": [
        "<a href=\"https://colab.research.google.com/github/anjomnouranika/stringpanildram/blob/master/Untitled43.ipynb\" target=\"_parent\"><img src=\"https://colab.research.google.com/assets/colab-badge.svg\" alt=\"Open In Colab\"/></a>"
      ]
    },
    {
      "cell_type": "code",
      "metadata": {
        "id": "vTx9Xz9h8S2_",
        "colab_type": "code",
        "colab": {
          "base_uri": "https://localhost:8080/",
          "height": 72
        },
        "outputId": "68284505-9c0a-4acc-f095-7999bd76f50a"
      },
      "source": [
        "string1 = input(\"\")\n",
        "string2 = \"\"\n",
        "i = len(string1) - 1\n",
        "while(i >= 0):\n",
        "  string2 = string2 + string1[i]\n",
        "  i = i - 1\n",
        "print(string2)  \n",
        "if (string1 == string2):\n",
        "  print(\"it's a string panildram\")\n",
        "else:\n",
        "  print(\"it's not a string panildram\")  "
      ],
      "execution_count": 7,
      "outputs": [
        {
          "output_type": "stream",
          "text": [
            "mam\n",
            "mam\n",
            "it's a string panildram\n"
          ],
          "name": "stdout"
        }
      ]
    },
    {
      "cell_type": "code",
      "metadata": {
        "id": "jJA4CCGj-zHu",
        "colab_type": "code",
        "colab": {
          "base_uri": "https://localhost:8080/",
          "height": 54
        },
        "outputId": "e006d934-5178-4056-9511-412140b9f568"
      },
      "source": [
        "string = input(\"\")\n",
        "string1 = (string1)[::-1]\n",
        "if (string == string1):\n",
        "  print(\"panildram\")\n",
        "else:\n",
        "  print(\"not panildram\")  "
      ],
      "execution_count": 10,
      "outputs": [
        {
          "output_type": "stream",
          "text": [
            "poor\n",
            "not panildram\n"
          ],
          "name": "stdout"
        }
      ]
    }
  ]
}